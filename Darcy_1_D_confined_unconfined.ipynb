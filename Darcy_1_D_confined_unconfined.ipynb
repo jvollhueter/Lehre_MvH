{
 "cells": [
  {
   "cell_type": "code",
   "execution_count": 7,
   "metadata": {
    "scrolled": false
   },
   "outputs": [
    {
     "data": {
      "application/vnd.jupyter.widget-view+json": {
       "model_id": "ff1b9fe9c0bf42d8892241b01297b9ce",
       "version_major": 2,
       "version_minor": 0
      },
      "text/plain": [
       "interactive(children=(BoundedFloatText(value=18.0, description='h_0:', max=1000.0, step=1.0), BoundedFloatText…"
      ]
     },
     "metadata": {},
     "output_type": "display_data"
    },
    {
     "data": {
      "text/plain": [
       "<function __main__.heads(h_0, h_1, L)>"
      ]
     },
     "execution_count": 7,
     "metadata": {},
     "output_type": "execute_result"
    }
   ],
   "source": [
    "import matplotlib.pyplot as plt\n",
    "import numpy as np\n",
    "from ipywidgets import *\n",
    "from matplotlib.gridspec import GridSpec\n",
    "import matplotlib.ticker\n",
    "\n",
    "def heads(h_0, h_1, L):\n",
    "    try:\n",
    "        x = np.arange(0, L+1)\n",
    "        h_confined = ((h_1-h_0)/L)*x + h_0\n",
    "        h_unconfined = np.sqrt(((h_1**2-h_0**2)/L)*x + h_0**2)\n",
    "        fig = plt.figure(figsize=(10, 10), constrained_layout=True)\n",
    "        gs = GridSpec(21, 1, figure=fig)\n",
    "        ax_confined = fig.add_subplot(gs[0:7, :])\n",
    "        ax_unconfined = fig.add_subplot(gs[7:14, :])\n",
    "        ax_diff = fig.add_subplot(gs[14:21, :])\n",
    "\n",
    "        ax_confined.plot(x, h_confined)\n",
    "        ax_unconfined.plot(x, h_unconfined)\n",
    "        ax_confined.set(xlabel='x', ylabel='head [m]',\n",
    "                title='Analytische Lösung 1-D Darcy-Gleichung gespannter GWL')\n",
    "        ax_unconfined.set(xlabel='x', ylabel='head [m]',\n",
    "                title='Analytische Lösung 1-D Darcy-Gleichung ungespannter GWL')\n",
    "        ax_confined.fill_between(x, 0, h_confined, facecolor='lightblue')\n",
    "        ax_unconfined.fill_between(x, 0, h_unconfined, facecolor='lightblue')\n",
    "        ax_confined.fill_between(x, h_confined, max(h_0, h_1) * 1.2,\n",
    "                                 facecolor='grey')\n",
    "        ax_unconfined.fill_between(x, h_unconfined, max(h_0, h_1) * 1.2,\n",
    "                                   facecolor='khaki')\n",
    "\n",
    "        ax_confined.vlines(0, 0, h_0, linewidth=10, color='b')\n",
    "        ax_unconfined.vlines(0, 0, h_0, linewidth=10, color='b')\n",
    "        ax_confined.vlines(L, 0, h_1, linewidth=10, color='b')\n",
    "        ax_unconfined.vlines(L, 0, h_1, linewidth=10, color='b')\n",
    "\n",
    "        ax_confined.set(ylim=(0, max(h_0, h_1)*1.2))\n",
    "        ax_unconfined.set(ylim=(0, max(h_0, h_1)*1.2))\n",
    "        ax_confined.set(xlim=(0, L))\n",
    "        ax_unconfined.set(xlim=(0, L))\n",
    "        ax_confined.grid()\n",
    "        ax_unconfined.grid()\n",
    "\n",
    "        diff_s = h_unconfined - h_confined\n",
    "        diff_p = 1 - h_confined/h_unconfined\n",
    "        ax_diff_f = ax_diff.twinx()\n",
    "        ax_diff.plot(x, h_unconfined - h_confined, color='black')\n",
    "        ax_diff_f.plot(x, (1 - h_confined/h_unconfined)*100, color='green')\n",
    "        ax_diff_f.tick_params(axis='y', labelcolor='green')\n",
    "        ax_diff.set(xlabel='x', ylabel='Difference [m]',\n",
    "                    title='Abweichung gespannt/ungespannt')\n",
    "        ax_diff_f.set_ylabel('Difference [%]', color='green')\n",
    "        ax_diff.set(xlim=(0, L))\n",
    "        ax_diff_f.set(xlim=(0, L))\n",
    "        ax_diff.grid()\n",
    "    except:\n",
    "        print('An error occured. Please change your input parameter value(s)')\n",
    "\n",
    "interact(heads,\n",
    "         h_0=widgets.BoundedFloatText(value=18, min=0, max=1000, step=1,\n",
    "                                      description='h_0:', disabled=False),\n",
    "         h_1=widgets.BoundedFloatText(value=15, min=0, max=1000, step=1,\n",
    "                                      description='h_1:', disabled=False),\n",
    "         L=widgets.BoundedFloatText(value=100, min=1, max=20000000, step=1,\n",
    "                                    description='L:', disabled=False))\n"
   ]
  }
 ],
 "metadata": {
  "kernelspec": {
   "display_name": "Python 3",
   "language": "python",
   "name": "python3"
  },
  "language_info": {
   "codemirror_mode": {
    "name": "ipython",
    "version": 3
   },
   "file_extension": ".py",
   "mimetype": "text/x-python",
   "name": "python",
   "nbconvert_exporter": "python",
   "pygments_lexer": "ipython3",
   "version": "3.7.4"
  }
 },
 "nbformat": 4,
 "nbformat_minor": 2
}

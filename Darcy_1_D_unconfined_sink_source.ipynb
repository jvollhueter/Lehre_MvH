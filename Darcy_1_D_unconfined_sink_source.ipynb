{
 "cells": [
  {
   "cell_type": "code",
   "execution_count": 1,
   "metadata": {},
   "outputs": [],
   "source": [
    "import matplotlib.pyplot as plt\n",
    "import numpy as np\n",
    "from ipywidgets import *"
   ]
  },
  {
   "cell_type": "code",
   "execution_count": 17,
   "metadata": {
    "scrolled": false
   },
   "outputs": [
    {
     "data": {
      "application/vnd.jupyter.widget-view+json": {
       "model_id": "8108d2ed1b8b4f259789429ac83742ff",
       "version_major": 2,
       "version_minor": 0
      },
      "text/plain": [
       "interactive(children=(BoundedFloatText(value=15.0, description='h_0 [m]', max=1000.0, step=1.0), BoundedFloatT…"
      ]
     },
     "metadata": {},
     "output_type": "display_data"
    },
    {
     "data": {
      "text/plain": [
       "<function __main__.head_unconfined(h_0, h_1, L, k_f, q_R)>"
      ]
     },
     "execution_count": 17,
     "metadata": {},
     "output_type": "execute_result"
    }
   ],
   "source": [
    "def head_unconfined(h_0, h_1, L, k_f, q_R):\n",
    "    try:\n",
    "        x = np.arange(0, L+1)\n",
    "        h_unconfined_R = np.sqrt((h_0**2 + (q_R/k_f)*x*(L-x) +\n",
    "                                  ((h_1**2 - h_0**2)/L)*x))\n",
    "        fig_unconfined = plt.figure(figsize=(9, 6))\n",
    "        \n",
    "        ax = fig_unconfined.add_subplot(1, 1, 1)\n",
    "        ax.plot(x, h_unconfined_R)\n",
    "        ax.set(xlabel='x', ylabel='head [m]',\n",
    "               title='Analytische Lösung 1-D Darcy-Gleichung ungespannter GWL mit Quelle/Senke')\n",
    "        ax.fill_between(x, 0, h_unconfined_R, facecolor='lightblue')\n",
    "        ax.fill_between(x, h_unconfined_R, max(h_unconfined_R)*1.1,\n",
    "                                   facecolor='khaki')\n",
    "\n",
    "        ax.vlines(0, 0, h_0, linewidth = 10, color = 'b')\n",
    "        ax.vlines(L, 0, h_1, linewidth = 10, color = 'b')\n",
    "        box = dict(boxstyle='square', facecolor='white')\n",
    "        if q_R != 0:\n",
    "            x_gwd = 0.5 * (L+(k_f/(L*q_R))*(h_1**2-h_0**2))\n",
    "            if x_gwd > 0 and x_gwd < L:\n",
    "                head_gwd = np.sqrt((h_0**2 + (q_R/k_f)*x_gwd*(L-x_gwd) +\n",
    "                                      ((h_1**2 - h_0**2)/L)*x_gwd))\n",
    "                ax.vlines(x_gwd,0, head_gwd, color = 'r')\n",
    "                plt.text(x_gwd, head_gwd*0.5, 'GW devide',\n",
    "                     ha='center', va='bottom', color='red', bbox=box)\n",
    "\n",
    "        plt.ylim(0, max(h_unconfined_R)*1.1)\n",
    "        plt.xlim(0, L)\n",
    "        plt.text(L*0.75, max(h_unconfined_R)*0.05, 'Head_L/2:   ' +\n",
    "                 str(np.sqrt((h_0**2 + (q_R/k_f)*(L/2)*(L/2) +\n",
    "                              ((h_1**2 - h_0**2)/L)*\n",
    "                              (L/2))).round(2)) + ' m\\n \\nk_f:    '\n",
    "                              \"%8.2e\" % k_f + ' m/s',\n",
    "                 ha='left', va='bottom', color='red', bbox=box)\n",
    "        ax.grid()\n",
    "        plt.show()\n",
    "    except:\n",
    "        print('An error occured. Please change your input parameter value(s)')\n",
    "\n",
    "\n",
    "interact(head_unconfined,\n",
    "         h_0 = widgets.BoundedFloatText(value=15, min=0, max=1000, step=1,\n",
    "                                        description='h_0 [m]', disabled=False),\n",
    "         h_1 = widgets.BoundedFloatText(value=15, min=0, max=1000, step=1,\n",
    "                                        description='h_1 [m]:', disabled=False),\n",
    "         L = widgets.BoundedFloatText(value=100, min=1, max=20000000,step=1,\n",
    "                                      description='L [m]:', disabled=False),\n",
    "         k_f = widgets.BoundedFloatText(value=0.0001, min=0.00000000000000001,\n",
    "                                        max=0.1, step = 0.00000000000000001,\n",
    "                                        description='k_f [m/s]:', disabled=False),\n",
    "         q_R = widgets.BoundedFloatText(value=0.00001,min = -0.1,\n",
    "                                        max=0.1, step = 0.00000000000000001,\n",
    "                                        description='q_R [m^3/m/s]:', disabled = False)\n",
    "         )\n"
   ]
  },
  {
   "cell_type": "code",
   "execution_count": null,
   "metadata": {},
   "outputs": [],
   "source": []
  }
 ],
 "metadata": {
  "kernelspec": {
   "display_name": "Python 3",
   "language": "python",
   "name": "python3"
  },
  "language_info": {
   "codemirror_mode": {
    "name": "ipython",
    "version": 3
   },
   "file_extension": ".py",
   "mimetype": "text/x-python",
   "name": "python",
   "nbconvert_exporter": "python",
   "pygments_lexer": "ipython3",
   "version": "3.7.4"
  }
 },
 "nbformat": 4,
 "nbformat_minor": 2
}
